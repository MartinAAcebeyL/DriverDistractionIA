{
  "nbformat": 4,
  "nbformat_minor": 0,
  "metadata": {
    "colab": {
      "name": "to_tflite.ipynb",
      "provenance": [],
      "collapsed_sections": []
    },
    "kernelspec": {
      "name": "python3",
      "display_name": "Python 3"
    },
    "language_info": {
      "name": "python"
    }
  },
  "cells": [
    {
      "cell_type": "code",
      "execution_count": null,
      "metadata": {
        "id": "b79bjlX4B-Y5"
      },
      "outputs": [],
      "source": [
        "import tensorflow as tf\n",
        "import os"
      ]
    },
    {
      "cell_type": "code",
      "source": [
        "def get_size_file(file_path):\n",
        "  return os.path.getsize(file_path)\n",
        "\n",
        "def covert_bytess(size, unit=None):\n",
        "  if unit == \"KB\":\n",
        "    return print(f'size {round(size/1024,3)} Kb')\n",
        "  elif unit == \"Mb\":\n",
        "    return print(f'size {round(size/1024*1024, 3)} Mb')\n",
        "  else:\n",
        "    return print(f'size {size} b')"
      ],
      "metadata": {
        "id": "Kc1R8itKWBvi"
      },
      "execution_count": null,
      "outputs": []
    },
    {
      "cell_type": "code",
      "source": [
        "from keras.models import load_model\n",
        "model = load_model('/content/modelo.hdf5')\n",
        "\n",
        "TF_LITE_MODEL_FILE_NAME = 'conductor.tflite'\n",
        "tf_lite_converter = tf.lite.TFLiteConverter.from_keras_model(model)\n",
        "tflite_model = tf_lite_converter.convert()\n",
        "tflite_model_name = TF_LITE_MODEL_FILE_NAME\n",
        "with open(tflite_model_name, \"wb\") as m:\n",
        "  m.write(tflite_model)\n",
        "covert_bytess(get_size_file(TF_LITE_MODEL_FILE_NAME), \"Kb\")\n",
        "\n",
        "convert = tf.lite.TFLiteConverter.from_keras_model(model)\n",
        "tflite = convert.convert()\n",
        "\n",
        "with open('modelo.tflite', 'wb') as f:\n",
        "  f.write(tflite_model)"
      ],
      "metadata": {
        "colab": {
          "base_uri": "https://localhost:8080/"
        },
        "id": "bvq-zScdWVZJ",
        "outputId": "bcf3c57e-3dc0-4a84-b653-01e4413224f6"
      },
      "execution_count": null,
      "outputs": [
        {
          "output_type": "stream",
          "name": "stdout",
          "text": [
            "INFO:tensorflow:Assets written to: /tmp/tmp484ga2up/assets\n"
          ]
        },
        {
          "output_type": "stream",
          "name": "stderr",
          "text": [
            "INFO:tensorflow:Assets written to: /tmp/tmp484ga2up/assets\n",
            "WARNING:absl:Buffer deduplication procedure will be skipped when flatbuffer library is not properly loaded\n"
          ]
        },
        {
          "output_type": "stream",
          "name": "stdout",
          "text": [
            "size 61009464 b\n",
            "INFO:tensorflow:Assets written to: /tmp/tmp0eeih5y7/assets\n"
          ]
        },
        {
          "output_type": "stream",
          "name": "stderr",
          "text": [
            "INFO:tensorflow:Assets written to: /tmp/tmp0eeih5y7/assets\n",
            "WARNING:absl:Buffer deduplication procedure will be skipped when flatbuffer library is not properly loaded\n"
          ]
        }
      ]
    },
    {
      "cell_type": "code",
      "source": [
        "interpreter = tf.lite.Interpreter(model_path= TF_LITE_MODEL_FILE_NAME)\n",
        "input_details = interpreter.get_input_details()\n",
        "ouput_details = interpreter.get_output_details()\n",
        "\n",
        "print(f'Input shape: {input_details[0][\"shape\"]}')\n",
        "print(f'Input type: {input_details[0][\"dtype\"]}')\n",
        "print(f'Out shape: {ouput_details[0][\"shape\"]}')\n",
        "print(f'Out shape: {ouput_details[0][\"dtype\"]}')\n"
      ],
      "metadata": {
        "colab": {
          "base_uri": "https://localhost:8080/"
        },
        "id": "ysepsL9Kj6wy",
        "outputId": "b4b69925-ab73-40e4-a253-e0d48ee3f9c6"
      },
      "execution_count": null,
      "outputs": [
        {
          "output_type": "stream",
          "name": "stdout",
          "text": [
            "Input shape: [1 1 1 3]\n",
            "Input type: <class 'numpy.float32'>\n",
            "Out shape: [ 1 10]\n",
            "Out shape: <class 'numpy.float32'>\n"
          ]
        }
      ]
    }
  ]
}